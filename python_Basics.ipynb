{
  "nbformat": 4,
  "nbformat_minor": 0,
  "metadata": {
    "colab": {
      "provenance": []
    },
    "kernelspec": {
      "name": "python3",
      "display_name": "Python 3"
    },
    "language_info": {
      "name": "python"
    }
  },
  "cells": [
    {
      "cell_type": "markdown",
      "source": [
        "# Python Basic\n"
      ],
      "metadata": {
        "id": "PYCdV9S6sPTW"
      }
    },
    {
      "cell_type": "markdown",
      "source": [
        "1. What is Python, and why is it popular ?\n",
        "   - Python is a high-level, versatile programming language known for its simplicity and readability. It is popular due to its ease of use, cross-platform compatibility, vast libraries, strong community support, and applications in web development, AI, data science, and automation.\n",
        "2. What is an interpreter in Python ?\n",
        "   - An **interpreter** in Python is a program that executes Python code line by line, converting it into machine-readable instructions. It allows for interactive execution, making debugging and testing easier. Examples of Python interpreters include **CPython**, **PyPy**, and **Jython**.\n",
        "3.  What are pre-defined keywords in Python ?\n",
        "    - Pre-defined **keywords** in Python are reserved words with special meanings that cannot be used as variable names. Examples include `if`, `else`, `while`, `def`, `class`, `try`, `import`, `True`, and `False`. Use `import keyword; print(keyword.kwlist)` to see all keywords.\n",
        "4.  Can keywords be used as variable names ?\n",
        "    - No, keywords cannot be used as variable names in Python as they are reserved for specific functions. Doing so results in a **SyntaxError**.\n",
        "5. What is mutability in Python ?\n",
        "    - Mutability in Python refers to whether an object’s value can be changed after it is created.\n",
        "\n",
        "    - Mutable objects: Can be modified (e.g., list, dict, set).\n",
        "    - Immutable objects: Cannot be changed (e.g., int, float, str, tuple).\n",
        "6. Why are lists mutable, but tuples are immutable ?\n",
        "    - Lists are **mutable** because they are designed to allow changes, such as adding, removing, or modifying elements, which makes them more flexible for dynamic data manipulation.\n",
        "\n",
        "    - Tuples, on the other hand, are **immutable** to provide data integrity. Once a tuple is created, it cannot be changed, making it useful for storing fixed collections of data that shouldn’t be altered. This immutability also allows tuples to be used as keys in dictionaries, while lists cannot.\n",
        "\n",
        "    - In short, lists are mutable for flexibility, and tuples are immutable for reliability and performance.            \n",
        "7. What is the difference between “==” and “is” operators in Python ?\n",
        "    - == checks for value equality: It compares if the values of two objects are the same.\n",
        "\n",
        "    - is checks for identity equality: It compares if two references point to the same object in memory.\n",
        "8. What are logical operators in Python ?\n",
        "    -  logical operators in Python are used to combine conditional statements. They include:\n",
        "\n",
        "    - and: Returns True if both conditions are true.\n",
        "    - or: Returns True if at least one condition is true.\n",
        "    - not: Reverses the result, returns True if the condition is false.\n",
        "9.  What is type casting in Python ?\n",
        "    - Type casting in Python refers to converting one data type into another. It can be done explicitly using built-in functions or automatically (implicit type casting).\n",
        "\n",
        "    - Types of Type Casting:\n",
        "    - Explicit Type Casting (manual conversion):\n",
        "\n",
        "    - int(): Converts to integer.\n",
        "    - float(): Converts to float.\n",
        "    - str(): Converts to string.      \n",
        "10. What is the difference between implicit and explicit type casting ?\n",
        "    - Implicit Type Casting (Automatic): Python automatically converts a smaller data type to a larger one, without the need for the programmer to specify the conversion.\n",
        "\n",
        "    - Example: int to float.  \n",
        "    - Explicit Type Casting (Manual): The programmer manually converts one data type to another using built-in functions like int(), float(), or str().\n",
        "\n",
        "    - Example: str to int.\n",
        "11. What is the purpose of conditional statements in Python ?\n",
        "    - The purpose of conditional statements in Python is to allow the program to make decisions and execute certain blocks of code based on whether a condition is True or False. They help control the flow of the program.\n",
        "\n",
        "    - Types of Conditional Statements:\n",
        "    - if: Executes a block of code if the condition is True.\n",
        "    - elif: Checks another condition if the previous if is False.\n",
        "    - else: Executes a block of code if all previous conditions are False.\n",
        "12.  How does the elif statement work ?\n",
        "    -    The elif (short for \"else if\") statement in Python allows you to check multiple conditions after an initial if statement. It provides an alternative condition to test if the previous if or elif conditions are False.\n",
        "\n",
        "    - How it works:\n",
        "    - The if condition is evaluated first.\n",
        "    - If it's False, the program moves to the elif statement and checks its condition.\n",
        "    - If the elif condition is True, the corresponding block of code is executed.\n",
        "    - If there are no matching conditions, the program can move to the optional else block.\n",
        "13. What is the difference between for and while loops ?\n",
        "    -  `for` loop: Iterates over a sequence (like a list or range) for a known number of times.\n",
        "    - `while` loop: Repeats as long as a condition is `True`, with no predefined number of iterations.\n",
        "14. Describe a scenario where a while loop is more suitable than a for loop .\n",
        "    - A while loop is more suitable when the number of iterations depends on a condition that is checked during each iteration, rather than a predefined sequence or count. It is useful when you don't know in advance how many times the loop will run.\n",
        "\n",
        "\n",
        "   # Practical Questions\n",
        "1.  Write a Python program to print \"Hello, World!\" ?\n",
        "\n",
        "\n",
        "     "
      ],
      "metadata": {
        "id": "r_mmTZ4ssau7"
      }
    },
    {
      "cell_type": "code",
      "source": [
        "print(\"Hello, World\")\n"
      ],
      "metadata": {
        "id": "Z_osvJZ12vGs"
      },
      "execution_count": null,
      "outputs": []
    },
    {
      "cell_type": "markdown",
      "source": [
        "2. Write a Python program that displays your name and age ."
      ],
      "metadata": {
        "id": "hhaz6_FA22HF"
      }
    },
    {
      "cell_type": "code",
      "source": [
        "name = \"John Doe\"  # Replace with your name\n",
        "age = 25           # Replace with your age\n",
        "\n",
        "print(\"Name:\", name)\n",
        "print(\"Age:\", age)\n"
      ],
      "metadata": {
        "id": "M_RvAltO3EhY"
      },
      "execution_count": null,
      "outputs": []
    },
    {
      "cell_type": "markdown",
      "source": [
        "3. Write code to print all the pre-defined keywords in Python using the keyword library ."
      ],
      "metadata": {
        "id": "sP3LmFYa3MtO"
      }
    },
    {
      "cell_type": "code",
      "source": [
        "import keyword\n",
        "\n",
        "# Print the list of Python keywords\n",
        "print(keyword.kwlist)\n"
      ],
      "metadata": {
        "id": "07L_3cbf3Y_l"
      },
      "execution_count": null,
      "outputs": []
    },
    {
      "cell_type": "markdown",
      "source": [
        "4. Write a program that checks if a given word is a Python keyword ."
      ],
      "metadata": {
        "id": "XnkEAzXG3mLI"
      }
    },
    {
      "cell_type": "code",
      "source": [
        "import keyword\n",
        "\n",
        "# Input a word\n",
        "word = input(\"Enter a word: \")\n",
        "\n",
        "# Check if the word is a Python keyword\n",
        "if keyword.iskeyword(word):\n",
        "    print(f\"'{word}' is a Python keyword.\")\n",
        "else:\n",
        "    print(f\"'{word}' is not a Python keyword.\")\n"
      ],
      "metadata": {
        "id": "NWeYZxGj3sLZ"
      },
      "execution_count": null,
      "outputs": []
    },
    {
      "cell_type": "markdown",
      "source": [
        "5. Create a list and tuple in Python, and demonstrate how attempting to change an element works differently\n",
        "for each ."
      ],
      "metadata": {
        "id": "T0jvOBNE33__"
      }
    },
    {
      "cell_type": "code",
      "source": [
        "# Create a list and a tuple\n",
        "my_list = [1, 2, 3, 4]\n",
        "my_tuple = (1, 2, 3, 4)\n",
        "\n",
        "# Attempt to modify an element in the list\n",
        "my_list[0] = 10  # This works because lists are mutable\n",
        "print(\"Modified list:\", my_list)\n",
        "\n",
        "# Attempt to modify an element in the tuple\n",
        "try:\n",
        "    my_tuple[0] = 10\n",
        "except TypeError as e:\n",
        "    print(\"Error:\", e)\n"
      ],
      "metadata": {
        "id": "TQywQRP03_-Y"
      },
      "execution_count": null,
      "outputs": []
    },
    {
      "cell_type": "markdown",
      "source": [
        "6. Write a function to demonstrate the behavior of mutable and immutable arguments ."
      ],
      "metadata": {
        "id": "aCpIdEXO4RJs"
      }
    },
    {
      "cell_type": "code",
      "source": [
        "def modify_arguments(mutable_arg, immutable_arg):\n",
        "\n",
        "    mutable_arg[0] = 100\n",
        "\n",
        "\n",
        "    immutable_arg = 200  # This creates a new local reference, not affecting the original\n",
        "\n",
        "    print(\"Inside function:\")\n",
        "    print(\"Mutable argument:\", mutable_arg)\n",
        "    print(\"Immutable argument:\", immutable_arg)\n",
        "\n",
        "\n",
        "mutable_list = [1, 2, 3]\n",
        "immutable_int = 10\n",
        "\n",
        "print(\"Before function call:\")\n",
        "print(\"Mutable argument:\", mutable_list)\n",
        "print(\"Immutable argument:\", immutable_int)\n",
        "\n",
        "\n",
        "modify_arguments(mutable_list, immutable_int)\n",
        "\n",
        "print(\"\\nAfter function call:\")\n",
        "print(\"Mutable argument:\", mutable_list)\n",
        "print(\"Immutable argument:\", immutable_int)\n"
      ],
      "metadata": {
        "id": "B8PPqm974c4Y"
      },
      "execution_count": null,
      "outputs": []
    },
    {
      "cell_type": "markdown",
      "source": [
        "7. Write a function to demonstrate the behavior of mutable and immutable arguments."
      ],
      "metadata": {
        "id": "qds42w3z45F8"
      }
    },
    {
      "cell_type": "code",
      "source": [
        "def modify_arguments(mutable_arg, immutable_arg):\n",
        "\n",
        "    mutable_arg.append(4)\n",
        "\n",
        "\n",
        "    immutable_arg = 20  # This does not affect the original integer\n",
        "\n",
        "    print(\"Inside function:\")\n",
        "    print(\"Mutable argument:\", mutable_arg)\n",
        "    print(\"Immutable argument:\", immutable_arg)\n",
        "\n",
        "\n",
        "mutable_list = [1, 2, 3]\n",
        "immutable_value = 10\n",
        "\n",
        "print(\"Before function call:\")\n",
        "print(\"Mutable argument:\", mutable_list)\n",
        "print(\"Immutable argument:\", immutable_value)\n",
        "\n",
        "\n",
        "modify_arguments(mutable_list, immutable_value)\n",
        "\n",
        "print(\"\\nAfter function call:\")\n",
        "print(\"Mutable argument:\", mutable_list)\n",
        "print(\"Immutable argument:\", immutable_value)\n"
      ],
      "metadata": {
        "id": "4VreXzVT5B5f"
      },
      "execution_count": null,
      "outputs": []
    },
    {
      "cell_type": "markdown",
      "source": [
        "8.  Write a program to demonstrate the use of logical operators ."
      ],
      "metadata": {
        "id": "G52KU3R25Z1r"
      }
    },
    {
      "cell_type": "code",
      "source": [
        "\n",
        "a = 10\n",
        "b = 5\n",
        "c = 20\n",
        "\n",
        "\n",
        "print(\"Using 'and' operator:\")\n",
        "if a > b and c > a:\n",
        "    print(\"Both conditions are True\")\n",
        "\n",
        "\n",
        "print(\"\\nUsing 'or' operator:\")\n",
        "if a > b or a > c:\n",
        "    print(\"At least one condition is True\")\n",
        "\n",
        "\n",
        "print(\"\\nUsing 'not' operator:\")\n",
        "if not a < b:\n",
        "    print(\"The condition 'a < b' is False\")\n"
      ],
      "metadata": {
        "id": "YNvGPHlz5jvW"
      },
      "execution_count": null,
      "outputs": []
    },
    {
      "cell_type": "markdown",
      "source": [
        "9. Write a Python program to convert user input from string to integer, float, and boolean types ."
      ],
      "metadata": {
        "id": "GyNmJAQ35yyn"
      }
    },
    {
      "cell_type": "code",
      "source": [
        "\n",
        "user_input = input(\"Enter a value: \")\n",
        "\n",
        "\n",
        "try:\n",
        "    int_value = int(user_input)\n",
        "    print(f\"Integer value: {int_value}\")\n",
        "except ValueError:\n",
        "    print(\"Invalid input for integer conversion.\")\n",
        "\n",
        "\n",
        "try:\n",
        "    float_value = float(user_input)\n",
        "    print(f\"Float value: {float_value}\")\n",
        "except ValueError:\n",
        "    print(\"Invalid input for float conversion.\")\n",
        "\n",
        "\n",
        "boolean_value = bool(user_input)\n",
        "print(f\"Boolean value: {boolean_value}\")\n"
      ],
      "metadata": {
        "id": "zNYeEI1V6AFM"
      },
      "execution_count": null,
      "outputs": []
    },
    {
      "cell_type": "markdown",
      "source": [
        "10.  Write code to demonstrate type casting with list elements."
      ],
      "metadata": {
        "id": "WcIkCqW46TGK"
      }
    },
    {
      "cell_type": "code",
      "source": [
        "\n",
        "mixed_list = [\"1\", \"2.5\", \"True\", 10]\n",
        "\n",
        "\n",
        "\n",
        "int_list = [int(x) if x.isdigit() else x for x in mixed_list]\n",
        "\n",
        "\n",
        "float_list = [float(x) if isinstance(x, str) and x.replace('.', '', 1).isdigit() else x for x in mixed_list]\n",
        "\n",
        "\n",
        "bool_list = [bool(x) if isinstance(x, str) else x for x in mixed_list]\n",
        "\n",
        "print(\"Original list:\", mixed_list)\n",
        "print(\"List after integer type casting:\", int_list)\n",
        "print(\"List after float type casting:\", float_list)\n",
        "print(\"List after boolean type casting:\", bool_list)\n"
      ],
      "metadata": {
        "id": "q-bQPR3V6a4c"
      },
      "execution_count": null,
      "outputs": []
    },
    {
      "cell_type": "markdown",
      "source": [
        "11. Write a program that checks if a number is positive, negative, or zero ."
      ],
      "metadata": {
        "id": "_1gkftVk63NH"
      }
    },
    {
      "cell_type": "code",
      "source": [
        "\n",
        "number = float(input(\"Enter a number: \"))\n",
        "\n",
        "\n",
        "if number > 0:\n",
        "    print(\"The number is positive.\")\n",
        "elif number < 0:\n",
        "    print(\"The number is negative.\")\n",
        "else:\n",
        "    print(\"The number is zero.\")\n"
      ],
      "metadata": {
        "id": "12253cev7AAf"
      },
      "execution_count": null,
      "outputs": []
    },
    {
      "cell_type": "markdown",
      "source": [
        "12. Write a for loop to print numbers from 1 to 10 ."
      ],
      "metadata": {
        "id": "OGNNf2qV7NwV"
      }
    },
    {
      "cell_type": "code",
      "source": [
        "for i in range(1, 11):\n",
        "    print(i)\n"
      ],
      "metadata": {
        "id": "9PqJYbUh7XYI"
      },
      "execution_count": null,
      "outputs": []
    },
    {
      "cell_type": "markdown",
      "source": [
        "13. Write a Python program to find the sum of all even numbers between 1 and 50."
      ],
      "metadata": {
        "id": "2uqM-Cv-7nQj"
      }
    },
    {
      "cell_type": "code",
      "source": [
        "\n",
        "sum_of_evens = 0\n",
        "\n",
        "\n",
        "for i in range(1, 51):\n",
        "    if i % 2 == 0:\n",
        "        sum_of_evens += i\n",
        "\n",
        "\n",
        "print(\"Sum of all even numbers between 1 and 50:\", sum_of_evens)\n"
      ],
      "metadata": {
        "id": "ke-DLlcE70TZ"
      },
      "execution_count": null,
      "outputs": []
    },
    {
      "cell_type": "markdown",
      "source": [
        "14.  Write a program to reverse a string using a while loop ."
      ],
      "metadata": {
        "id": "he6QmLE38Wcp"
      }
    },
    {
      "cell_type": "code",
      "source": [
        "\n",
        "string = input(\"Enter a string: \")\n",
        "\n",
        "\n",
        "reversed_string = \"\"\n",
        "\n",
        "\n",
        "index = len(string) - 1\n",
        "\n",
        "\n",
        "while index >= 0:\n",
        "    reversed_string += string[index]\n",
        "    index -= 1\n",
        "\n",
        "\n",
        "print(\"Reversed string:\", reversed_string)\n"
      ],
      "metadata": {
        "id": "TDZ4KdvV8dbt"
      },
      "execution_count": null,
      "outputs": []
    },
    {
      "cell_type": "markdown",
      "source": [
        "15. Write a Python program to calculate the factorial of a number provided by the user using a while loop."
      ],
      "metadata": {
        "id": "vuUknE738wSy"
      }
    },
    {
      "cell_type": "code",
      "source": [
        "\n",
        "num = int(input(\"Enter a number: \"))\n",
        "\n",
        "\n",
        "factorial = 1\n",
        "\n",
        "\n",
        "if num < 0:\n",
        "    print(\"Factorial is not defined for negative numbers.\")\n",
        "else:\n",
        "\n",
        "    while num > 1:\n",
        "        factorial *= num\n",
        "        num -= 1\n",
        "\n",
        "    # Print the result\n",
        "    print(\"Factorial is:\", factorial)\n"
      ],
      "metadata": {
        "id": "1e2AvBfy83R9"
      },
      "execution_count": null,
      "outputs": []
    }
  ]
}